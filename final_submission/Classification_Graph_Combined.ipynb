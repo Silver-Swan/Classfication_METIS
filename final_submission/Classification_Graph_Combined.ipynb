{
 "cells": [
  {
   "cell_type": "markdown",
   "metadata": {},
   "source": [
    "# Files were to big to upload. So I'm uploading them with out running them."
   ]
  },
  {
   "cell_type": "code",
   "execution_count": null,
   "metadata": {},
   "outputs": [],
   "source": [
    "# import libraries\n",
    "from sklearn.neighbors import KNeighborsClassifier\n",
    "from sklearn import metrics\n",
    "\n",
    "from sklearn.linear_model import LogisticRegression\n",
    "from sklearn.model_selection import train_test_split\n",
    "from sklearn.metrics import precision_score, recall_score, accuracy_score, roc_auc_score, precision_recall_curve, f1_score, roc_curve\n",
    "from sklearn.metrics import confusion_matrix\n",
    "from sklearn.preprocessing import StandardScaler\n",
    "\n",
    "import pandas as pd\n",
    "import numpy as np\n",
    "\n",
    "import matplotlib.pyplot as plt\n",
    "import seaborn as sns\n",
    "\n",
    "%config InlineBackend.figure_formats = ['svg']  # or 'retina'\n",
    "%matplotlib inline\n",
    "\n",
    "sns.set(context='notebook', style='whitegrid')"
   ]
  },
  {
   "cell_type": "code",
   "execution_count": null,
   "metadata": {},
   "outputs": [],
   "source": [
    "diabetes_updated_df = pd.read_csv(\"Diabetes_Update_Df.csv\")"
   ]
  },
  {
   "cell_type": "markdown",
   "metadata": {},
   "source": [
    "# For Change in Medication "
   ]
  },
  {
   "cell_type": "code",
   "execution_count": null,
   "metadata": {},
   "outputs": [],
   "source": [
    "X_change = diabetes_updated_df[['num_medications','number_diagnoses']]\n",
    "y_change = diabetes_updated_df[['change']]"
   ]
  },
  {
   "cell_type": "code",
   "execution_count": null,
   "metadata": {},
   "outputs": [],
   "source": [
    "X_change.head()"
   ]
  },
  {
   "cell_type": "code",
   "execution_count": null,
   "metadata": {},
   "outputs": [],
   "source": [
    "y_change.head()"
   ]
  },
  {
   "cell_type": "code",
   "execution_count": null,
   "metadata": {},
   "outputs": [],
   "source": [
    "# Train_test_split\n",
    "X_change_train, X_change_test, y_change_train, y_change_test = train_test_split(X_change, y_change,test_size=0.2, random_state=42)\n",
    "\n",
    "X_change1_train, X_Change1_val, y_change1_train, y_Change1_val = train_test_split(X_change_train, y_change_train, test_size=0.2, random_state=1)"
   ]
  },
  {
   "cell_type": "code",
   "execution_count": null,
   "metadata": {},
   "outputs": [],
   "source": [
    "np.mean(y_change1_train)"
   ]
  },
  {
   "cell_type": "code",
   "execution_count": null,
   "metadata": {},
   "outputs": [],
   "source": [
    "np.mean(X_change1_train)"
   ]
  },
  {
   "cell_type": "code",
   "execution_count": null,
   "metadata": {},
   "outputs": [],
   "source": [
    "# For correlation matrix (Try without axis = 1 which is 'columns' and axis = 0 is by 'index')\n",
    "sns.pairplot(pd.concat([X_change1_train, y_change1_train], axis = 1))\n",
    "\n",
    "# (done)\n",
    "plt.savefig('diabetes_change_training_pairplot_graph.png')"
   ]
  },
  {
   "cell_type": "markdown",
   "metadata": {},
   "source": [
    "# For Age"
   ]
  },
  {
   "cell_type": "code",
   "execution_count": null,
   "metadata": {},
   "outputs": [],
   "source": [
    "X_Diab_Med_age = diabetes_updated_df[['num_medications','number_diagnoses']]\n",
    "y_Diab_Med_age = diabetes_updated_df[['age']]"
   ]
  },
  {
   "cell_type": "code",
   "execution_count": null,
   "metadata": {},
   "outputs": [],
   "source": [
    "# train_test_split (X = num_medications and number_diagnoses) and (y = age)\n",
    "X_Diab_Med_age_train, X_Diab_Med_age_test, y_Diab_Med_age_train, y_Diab_Med_age_test = train_test_split(X_Diab_Med_age,y_Diab_Med_age,test_size=0.2, random_state=42)\n",
    "\n",
    "X_DiabMed_age_train, X_DiabMed_age_val, y_DiabMed_age_train, y_DiabMed_age_val = train_test_split(X_Diab_Med_age_train, y_Diab_Med_age_train, test_size=0.2, random_state=1)"
   ]
  },
  {
   "cell_type": "code",
   "execution_count": null,
   "metadata": {},
   "outputs": [],
   "source": [
    "X_DiabMed_age_train.head()"
   ]
  },
  {
   "cell_type": "code",
   "execution_count": null,
   "metadata": {},
   "outputs": [],
   "source": [
    "y_DiabMed_age_train.head()"
   ]
  },
  {
   "cell_type": "code",
   "execution_count": null,
   "metadata": {},
   "outputs": [],
   "source": [
    "np.mean(y_DiabMed_age_train)"
   ]
  },
  {
   "cell_type": "code",
   "execution_count": null,
   "metadata": {},
   "outputs": [],
   "source": [
    "# For correlation matrix (Try without axis = 1 which is 'columns' and axis = 0 is by 'index')\n",
    "# plot for age\n",
    "sns.pairplot(pd.concat([X_DiabMed_age_train, y_DiabMed_age_train], axis = 1))\n",
    "\n",
    "# (done)\n",
    "plt.savefig('diabetes_training_DiabMed_age_pairplot_graph.png')"
   ]
  },
  {
   "cell_type": "markdown",
   "metadata": {},
   "source": [
    "# For gender"
   ]
  },
  {
   "cell_type": "code",
   "execution_count": null,
   "metadata": {},
   "outputs": [],
   "source": [
    "X_Diab_Med_gender = diabetes_updated_df[['num_medications','number_diagnoses']]\n",
    "y_Diab_Med_gender = diabetes_updated_df[['gender']]"
   ]
  },
  {
   "cell_type": "code",
   "execution_count": null,
   "metadata": {},
   "outputs": [],
   "source": [
    "# train_test_split (X = num_medications and number_diagnoses) and (y = gender)\n",
    "X_Diab_Med_gender_train, X_Diab_Med_gender_test, y_Diab_Med_gender_train, y_Diab_Med_gender_test = train_test_split(X_Diab_Med_gender,y_Diab_Med_gender,test_size=0.2, random_state=42)\n",
    "\n",
    "X_DiabMed_gender_train, X_DiabMed_gender_val, y_DiabMed_gender_train, y_DiabMed_gender_val = train_test_split(X_Diab_Med_gender_train, y_Diab_Med_gender_train, test_size=0.2, random_state=1)"
   ]
  },
  {
   "cell_type": "code",
   "execution_count": null,
   "metadata": {},
   "outputs": [],
   "source": [
    "X_DiabMed_gender_train.head()"
   ]
  },
  {
   "cell_type": "code",
   "execution_count": null,
   "metadata": {},
   "outputs": [],
   "source": [
    "y_DiabMed_gender_train.head()"
   ]
  },
  {
   "cell_type": "code",
   "execution_count": null,
   "metadata": {},
   "outputs": [],
   "source": [
    "np.mean(X_DiabMed_gender_train)"
   ]
  },
  {
   "cell_type": "code",
   "execution_count": null,
   "metadata": {},
   "outputs": [],
   "source": [
    "np.mean(y_DiabMed_gender_train)"
   ]
  },
  {
   "cell_type": "code",
   "execution_count": null,
   "metadata": {},
   "outputs": [],
   "source": [
    "# For correlation matrix (Try without axis = 1 which is 'columns' and axis = 0 is by 'index')\n",
    "# plot for race\n",
    "sns.pairplot(pd.concat([X_DiabMed_gender_train, y_DiabMed_gender_train], axis = 1))\n",
    "\n",
    "# (done)\n",
    "plt.savefig('diabetes_DiabMed_gender_training_pairplot_graph.png')"
   ]
  },
  {
   "cell_type": "markdown",
   "metadata": {},
   "source": [
    "# For race"
   ]
  },
  {
   "cell_type": "code",
   "execution_count": null,
   "metadata": {},
   "outputs": [],
   "source": [
    "X_Diab_Med_race = diabetes_updated_df[['race']]\n",
    "\n",
    "y_Diab_Med_race  = diabetes_updated_df[['num_medications','number_diagnoses']]"
   ]
  },
  {
   "cell_type": "code",
   "execution_count": null,
   "metadata": {},
   "outputs": [],
   "source": [
    "# train_test_split (X = num_medications and number_diagnoses) and (y = race)\n",
    "X_Diab_Med_race_train, X_Diab_Med_race_test, y_Diab_Med_race_train, y_Diab_Med_race_test = train_test_split(X_Diab_Med_race,y_Diab_Med_race,test_size=0.2, random_state=42)\n",
    "\n",
    "X_DiabMed_race_train, X_DiabMed_race_val, y_DiabMed_race_train, y_DiabMed_race_val = train_test_split(X_Diab_Med_race_train, y_Diab_Med_race_train, test_size=0.2, random_state=1)"
   ]
  },
  {
   "cell_type": "code",
   "execution_count": null,
   "metadata": {},
   "outputs": [],
   "source": [
    "X_DiabMed_race_train.head()"
   ]
  },
  {
   "cell_type": "code",
   "execution_count": null,
   "metadata": {},
   "outputs": [],
   "source": [
    "y_DiabMed_race_train.head()"
   ]
  },
  {
   "cell_type": "code",
   "execution_count": null,
   "metadata": {},
   "outputs": [],
   "source": [
    "np.mean(y_DiabMed_race_train)"
   ]
  },
  {
   "cell_type": "code",
   "execution_count": null,
   "metadata": {},
   "outputs": [],
   "source": [
    "# For correlation matrix (Try without axis = 1 which is 'columns' and axis = 0 is by 'index')\n",
    "# plot for race\n",
    "sns.pairplot(pd.concat([X_DiabMed_race_train, y_DiabMed_race_train], axis = 1))\n",
    "\n",
    "# (done)\n",
    "plt.savefig('diabetes_DiabMed_race_training_pairplot_graph.png')"
   ]
  }
 ],
 "metadata": {
  "language_info": {
   "name": "plaintext"
  },
  "orig_nbformat": 4
 },
 "nbformat": 4,
 "nbformat_minor": 2
}
