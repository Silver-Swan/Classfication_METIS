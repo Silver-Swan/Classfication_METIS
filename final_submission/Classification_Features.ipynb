{
 "cells": [
  {
   "cell_type": "code",
   "execution_count": 1,
   "metadata": {},
   "outputs": [],
   "source": [
    "# import libraries\n",
    "from sklearn.neighbors import KNeighborsClassifier\n",
    "from sklearn import metrics\n",
    "\n",
    "from sklearn.linear_model import LogisticRegression\n",
    "from sklearn.model_selection import train_test_split\n",
    "from sklearn.metrics import precision_score, recall_score, accuracy_score, roc_auc_score, precision_recall_curve, f1_score, roc_curve\n",
    "from sklearn.metrics import confusion_matrix\n",
    "from sklearn.preprocessing import StandardScaler\n",
    "\n",
    "import pandas as pd\n",
    "import numpy as np\n",
    "\n",
    "import matplotlib.pyplot as plt\n",
    "import seaborn as sns\n",
    "\n",
    "%config InlineBackend.figure_formats = ['svg']  # or 'retina'\n",
    "%matplotlib inline\n",
    "\n",
    "sns.set(context='notebook', style='whitegrid')"
   ]
  },
  {
   "cell_type": "code",
   "execution_count": 2,
   "metadata": {},
   "outputs": [],
   "source": [
    "diabetes_updated_df = pd.read_csv(\"Diabetes_Update_Df.csv\")"
   ]
  },
  {
   "cell_type": "markdown",
   "metadata": {},
   "source": [
    "# Change in Medication (Train)"
   ]
  },
  {
   "cell_type": "code",
   "execution_count": 3,
   "metadata": {},
   "outputs": [],
   "source": [
    "X_change = diabetes_updated_df[['num_medications']]\n",
    "y_change = diabetes_updated_df[['change']]"
   ]
  },
  {
   "cell_type": "code",
   "execution_count": 4,
   "metadata": {},
   "outputs": [
    {
     "data": {
      "text/html": [
       "<div>\n",
       "<style scoped>\n",
       "    .dataframe tbody tr th:only-of-type {\n",
       "        vertical-align: middle;\n",
       "    }\n",
       "\n",
       "    .dataframe tbody tr th {\n",
       "        vertical-align: top;\n",
       "    }\n",
       "\n",
       "    .dataframe thead th {\n",
       "        text-align: right;\n",
       "    }\n",
       "</style>\n",
       "<table border=\"1\" class=\"dataframe\">\n",
       "  <thead>\n",
       "    <tr style=\"text-align: right;\">\n",
       "      <th></th>\n",
       "      <th>num_medications</th>\n",
       "    </tr>\n",
       "  </thead>\n",
       "  <tbody>\n",
       "    <tr>\n",
       "      <th>0</th>\n",
       "      <td>1</td>\n",
       "    </tr>\n",
       "    <tr>\n",
       "      <th>1</th>\n",
       "      <td>18</td>\n",
       "    </tr>\n",
       "    <tr>\n",
       "      <th>2</th>\n",
       "      <td>13</td>\n",
       "    </tr>\n",
       "    <tr>\n",
       "      <th>3</th>\n",
       "      <td>16</td>\n",
       "    </tr>\n",
       "    <tr>\n",
       "      <th>4</th>\n",
       "      <td>8</td>\n",
       "    </tr>\n",
       "  </tbody>\n",
       "</table>\n",
       "</div>"
      ],
      "text/plain": [
       "   num_medications\n",
       "0                1\n",
       "1               18\n",
       "2               13\n",
       "3               16\n",
       "4                8"
      ]
     },
     "execution_count": 4,
     "metadata": {},
     "output_type": "execute_result"
    }
   ],
   "source": [
    "X_change.head()"
   ]
  },
  {
   "cell_type": "code",
   "execution_count": 5,
   "metadata": {},
   "outputs": [
    {
     "data": {
      "text/html": [
       "<div>\n",
       "<style scoped>\n",
       "    .dataframe tbody tr th:only-of-type {\n",
       "        vertical-align: middle;\n",
       "    }\n",
       "\n",
       "    .dataframe tbody tr th {\n",
       "        vertical-align: top;\n",
       "    }\n",
       "\n",
       "    .dataframe thead th {\n",
       "        text-align: right;\n",
       "    }\n",
       "</style>\n",
       "<table border=\"1\" class=\"dataframe\">\n",
       "  <thead>\n",
       "    <tr style=\"text-align: right;\">\n",
       "      <th></th>\n",
       "      <th>change</th>\n",
       "    </tr>\n",
       "  </thead>\n",
       "  <tbody>\n",
       "    <tr>\n",
       "      <th>0</th>\n",
       "      <td>0</td>\n",
       "    </tr>\n",
       "    <tr>\n",
       "      <th>1</th>\n",
       "      <td>1</td>\n",
       "    </tr>\n",
       "    <tr>\n",
       "      <th>2</th>\n",
       "      <td>0</td>\n",
       "    </tr>\n",
       "    <tr>\n",
       "      <th>3</th>\n",
       "      <td>1</td>\n",
       "    </tr>\n",
       "    <tr>\n",
       "      <th>4</th>\n",
       "      <td>1</td>\n",
       "    </tr>\n",
       "  </tbody>\n",
       "</table>\n",
       "</div>"
      ],
      "text/plain": [
       "   change\n",
       "0       0\n",
       "1       1\n",
       "2       0\n",
       "3       1\n",
       "4       1"
      ]
     },
     "execution_count": 5,
     "metadata": {},
     "output_type": "execute_result"
    }
   ],
   "source": [
    "y_change.head()"
   ]
  },
  {
   "cell_type": "code",
   "execution_count": 6,
   "metadata": {},
   "outputs": [],
   "source": [
    "# Train_test_split\n",
    "X_change_train, X_change_test, y_change_train, y_change_test = train_test_split(X_change, y_change,test_size=0.2, random_state=42)\n",
    "\n",
    "X_change1_train, X_Change1_val, y_change1_train, y_Change1_val = train_test_split(X_change_train, y_change_train, test_size=0.2, random_state=1)"
   ]
  },
  {
   "cell_type": "code",
   "execution_count": 7,
   "metadata": {},
   "outputs": [
    {
     "data": {
      "text/plain": [
       "change    0.462549\n",
       "dtype: float64"
      ]
     },
     "execution_count": 7,
     "metadata": {},
     "output_type": "execute_result"
    }
   ],
   "source": [
    "np.mean(y_change_train)"
   ]
  },
  {
   "cell_type": "code",
   "execution_count": 8,
   "metadata": {},
   "outputs": [
    {
     "data": {
      "text/plain": [
       "num_medications    16.010594\n",
       "dtype: float64"
      ]
     },
     "execution_count": 8,
     "metadata": {},
     "output_type": "execute_result"
    }
   ],
   "source": [
    "np.mean(X_change1_train)"
   ]
  },
  {
   "cell_type": "code",
   "execution_count": 9,
   "metadata": {},
   "outputs": [
    {
     "name": "stderr",
     "output_type": "stream",
     "text": [
      "/Users/edk/anaconda3/envs/metis/lib/python3.8/site-packages/sklearn/utils/validation.py:63: DataConversionWarning: A column-vector y was passed when a 1d array was expected. Please change the shape of y to (n_samples, ), for example using ravel().\n",
      "  return f(*args, **kwargs)\n"
     ]
    },
    {
     "data": {
      "text/plain": [
       "LogisticRegression(C=1000)"
      ]
     },
     "execution_count": 9,
     "metadata": {},
     "output_type": "execute_result"
    }
   ],
   "source": [
    "# X_change1_train, y_change1_train\n",
    "logr = LogisticRegression(C=1000)\n",
    "logr.fit(X_change1_train, y_change1_train)"
   ]
  },
  {
   "cell_type": "code",
   "execution_count": 10,
   "metadata": {},
   "outputs": [
    {
     "data": {
      "text/plain": [
       "0.6030953952924196"
      ]
     },
     "execution_count": 10,
     "metadata": {},
     "output_type": "execute_result"
    }
   ],
   "source": [
    "logr.score(X_change1_train, y_change1_train)"
   ]
  },
  {
   "cell_type": "code",
   "execution_count": 11,
   "metadata": {},
   "outputs": [
    {
     "data": {
      "text/plain": [
       "(array([[0.06814164]]), array([-1.23585812]))"
      ]
     },
     "execution_count": 11,
     "metadata": {},
     "output_type": "execute_result"
    }
   ],
   "source": [
    "logr.coef_, logr.intercept_"
   ]
  },
  {
   "cell_type": "code",
   "execution_count": 12,
   "metadata": {},
   "outputs": [
    {
     "name": "stdout",
     "output_type": "stream",
     "text": [
      "Precision: 0.6066, Recall: 0.4059\n"
     ]
    }
   ],
   "source": [
    "# precision_score and recall_score \n",
    "y_predict = logr.predict(X_change1_train)\n",
    "print (\"Precision: {:6.4f}, Recall: {:6.4f}\".format(precision_score(y_change1_train, y_predict), recall_score(y_change1_train, y_predict)))"
   ]
  },
  {
   "cell_type": "code",
   "execution_count": 13,
   "metadata": {},
   "outputs": [
    {
     "data": {
      "text/plain": [
       "0.48636941662692734"
      ]
     },
     "execution_count": 13,
     "metadata": {},
     "output_type": "execute_result"
    }
   ],
   "source": [
    "# F1 precision_score(y_change1_train, y_predict), recall_score(y_change1_train, y_predict)\n",
    "\n",
    "# recall (y_true)\n",
    "recall = y_change1_train\n",
    "\n",
    "# predict (y_pred)\n",
    "predict = y_predict\n",
    "\n",
    "# calculate F1 score\n",
    "f1_score(recall, predict)"
   ]
  },
  {
   "cell_type": "code",
   "execution_count": 14,
   "metadata": {},
   "outputs": [
    {
     "name": "stderr",
     "output_type": "stream",
     "text": [
      "/var/folders/0b/2h06wtt932j8vbn2kb4_x_2w0000gn/T/ipykernel_3934/468486237.py:4: DataConversionWarning: A column-vector y was passed when a 1d array was expected. Please change the shape of y to (n_samples,), for example using ravel().\n",
      "  RC.fit(X_change1_train, y_change1_train)\n"
     ]
    },
    {
     "name": "stdout",
     "output_type": "stream",
     "text": [
      "Accuracy: 0.606396536105268\n"
     ]
    }
   ],
   "source": [
    "# Random Forest for num_medications and change\n",
    "from sklearn.ensemble import RandomForestClassifier\n",
    "RC = RandomForestClassifier(n_estimators = 100)\n",
    "RC.fit(X_change1_train, y_change1_train)\n",
    "y_RC_TRAIN_predict = RC.predict(X_change1_train)\n",
    "\n",
    "print(\"Accuracy:\",metrics.accuracy_score(y_change1_train, y_RC_TRAIN_predict))"
   ]
  },
  {
   "cell_type": "markdown",
   "metadata": {},
   "source": [
    "# Test (Change in medication)"
   ]
  },
  {
   "cell_type": "code",
   "execution_count": 15,
   "metadata": {},
   "outputs": [
    {
     "name": "stderr",
     "output_type": "stream",
     "text": [
      "/Users/edk/anaconda3/envs/metis/lib/python3.8/site-packages/sklearn/utils/validation.py:63: DataConversionWarning: A column-vector y was passed when a 1d array was expected. Please change the shape of y to (n_samples, ), for example using ravel().\n",
      "  return f(*args, **kwargs)\n"
     ]
    },
    {
     "data": {
      "text/plain": [
       "LogisticRegression(C=1000)"
      ]
     },
     "execution_count": 15,
     "metadata": {},
     "output_type": "execute_result"
    }
   ],
   "source": [
    "# X_change_test, y_change_test\n",
    "logr = LogisticRegression(C=1000)\n",
    "logr.fit(X_change_test, y_change_test)"
   ]
  },
  {
   "cell_type": "code",
   "execution_count": 16,
   "metadata": {},
   "outputs": [
    {
     "data": {
      "text/plain": [
       "0.6033212145032918"
      ]
     },
     "execution_count": 16,
     "metadata": {},
     "output_type": "execute_result"
    }
   ],
   "source": [
    "logr.score(X_change_test, y_change_test)"
   ]
  },
  {
   "cell_type": "code",
   "execution_count": 17,
   "metadata": {},
   "outputs": [
    {
     "data": {
      "text/plain": [
       "(array([[0.06682389]]), array([-1.23408662]))"
      ]
     },
     "execution_count": 17,
     "metadata": {},
     "output_type": "execute_result"
    }
   ],
   "source": [
    "logr.coef_, logr.intercept_"
   ]
  },
  {
   "cell_type": "code",
   "execution_count": 18,
   "metadata": {},
   "outputs": [
    {
     "data": {
      "text/plain": [
       "0.48756029449098764"
      ]
     },
     "execution_count": 18,
     "metadata": {},
     "output_type": "execute_result"
    }
   ],
   "source": [
    "# F1 \n",
    "y_predict_test = logr.predict(X_change_test)\n",
    "# recall (y_true)\n",
    "recall = y_change_test\n",
    "\n",
    "# predict (y_pred)\n",
    "predict = y_predict_test\n",
    "\n",
    "# calculate F1 score\n",
    "f1_score(recall, predict)"
   ]
  },
  {
   "cell_type": "code",
   "execution_count": 19,
   "metadata": {},
   "outputs": [
    {
     "name": "stderr",
     "output_type": "stream",
     "text": [
      "/var/folders/0b/2h06wtt932j8vbn2kb4_x_2w0000gn/T/ipykernel_3934/332524231.py:4: DataConversionWarning: A column-vector y was passed when a 1d array was expected. Please change the shape of y to (n_samples,), for example using ravel().\n",
      "  RC.fit(X_change_test, y_change_test)\n"
     ]
    },
    {
     "name": "stdout",
     "output_type": "stream",
     "text": [
      "Accuracy: 0.6062690380269234\n"
     ]
    }
   ],
   "source": [
    "# Random Forest for num_medications and change\n",
    "from sklearn.ensemble import RandomForestClassifier\n",
    "RC = RandomForestClassifier(n_estimators = 100)\n",
    "RC.fit(X_change_test, y_change_test)\n",
    "y_RC_predict = RC.predict(X_change_test)\n",
    "\n",
    "print(\"Accuracy:\",metrics.accuracy_score(y_change_test, y_RC_predict))"
   ]
  },
  {
   "cell_type": "markdown",
   "metadata": {},
   "source": [
    "# Age (Train)"
   ]
  },
  {
   "cell_type": "code",
   "execution_count": 20,
   "metadata": {},
   "outputs": [],
   "source": [
    "X_Diab_Med_age = diabetes_updated_df[['num_medications']]\n",
    "y_Diab_Med_age = diabetes_updated_df[['age']]"
   ]
  },
  {
   "cell_type": "code",
   "execution_count": 21,
   "metadata": {},
   "outputs": [],
   "source": [
    "# train_test_split (X = num_medications and number_diagnoses) and (y = age)\n",
    "X_Diab_Med_age_train, X_Diab_Med_age_test, y_Diab_Med_age_train, y_Diab_Med_age_test = train_test_split(X_Diab_Med_age,y_Diab_Med_age,test_size=0.2, random_state=42)\n",
    "\n",
    "X_DiabMed_age_train, X_DiabMed_age_val, y_DiabMed_age_train, y_DiabMed_age_val = train_test_split(X_Diab_Med_age_train, y_Diab_Med_age_train, test_size=0.2, random_state=1)"
   ]
  },
  {
   "cell_type": "code",
   "execution_count": 22,
   "metadata": {},
   "outputs": [
    {
     "name": "stderr",
     "output_type": "stream",
     "text": [
      "/Users/edk/anaconda3/envs/metis/lib/python3.8/site-packages/sklearn/utils/validation.py:63: DataConversionWarning: A column-vector y was passed when a 1d array was expected. Please change the shape of y to (n_samples, ), for example using ravel().\n",
      "  return f(*args, **kwargs)\n",
      "/Users/edk/anaconda3/envs/metis/lib/python3.8/site-packages/sklearn/linear_model/_logistic.py:763: ConvergenceWarning: lbfgs failed to converge (status=1):\n",
      "STOP: TOTAL NO. of ITERATIONS REACHED LIMIT.\n",
      "\n",
      "Increase the number of iterations (max_iter) or scale the data as shown in:\n",
      "    https://scikit-learn.org/stable/modules/preprocessing.html\n",
      "Please also refer to the documentation for alternative solver options:\n",
      "    https://scikit-learn.org/stable/modules/linear_model.html#logistic-regression\n",
      "  n_iter_i = _check_optimize_result(\n"
     ]
    },
    {
     "data": {
      "text/plain": [
       "LogisticRegression(C=1000)"
      ]
     },
     "execution_count": 22,
     "metadata": {},
     "output_type": "execute_result"
    }
   ],
   "source": [
    "# Logistic Regression for 'age' X_DiabMed_age_train, y_DiabMed_age_train\n",
    "logr = LogisticRegression(C=1000)\n",
    "logr.fit(X_DiabMed_age_train, y_DiabMed_age_train)"
   ]
  },
  {
   "cell_type": "code",
   "execution_count": 23,
   "metadata": {},
   "outputs": [
    {
     "data": {
      "text/plain": [
       "0.25773464969522025"
      ]
     },
     "execution_count": 23,
     "metadata": {},
     "output_type": "execute_result"
    }
   ],
   "source": [
    "logr.score(X_DiabMed_age_train, y_DiabMed_age_train)"
   ]
  },
  {
   "cell_type": "code",
   "execution_count": 24,
   "metadata": {},
   "outputs": [
    {
     "data": {
      "text/plain": [
       "(array([[-0.36298633],\n",
       "        [-0.15791634],\n",
       "        [-0.01863859],\n",
       "        [ 0.0543413 ],\n",
       "        [ 0.08099257],\n",
       "        [ 0.09573347],\n",
       "        [ 0.10309165],\n",
       "        [ 0.09211125],\n",
       "        [ 0.07440828],\n",
       "        [ 0.03886275]]),\n",
       " array([-0.02844144, -0.05724823, -0.45611962, -0.62502099, -0.08671742,\n",
       "         0.24489273,  0.39239061,  0.72682492,  0.5900939 , -0.70065447]))"
      ]
     },
     "execution_count": 24,
     "metadata": {},
     "output_type": "execute_result"
    }
   ],
   "source": [
    "logr.coef_, logr.intercept_"
   ]
  },
  {
   "cell_type": "code",
   "execution_count": 40,
   "metadata": {},
   "outputs": [
    {
     "name": "stdout",
     "output_type": "stream",
     "text": [
      "Precision: 0.2574, Recall: 0.2574\n"
     ]
    }
   ],
   "source": [
    "# precision_score and recall_score X_DiabMed_age_train, y_DiabMed_age_train\n",
    "y_predict = logr.predict(X_DiabMed_age_train)\n",
    "print (\"Precision: {:6.4f}, Recall: {:6.4f}\".format(precision_score(y_DiabMed_age_train, y_predict, average = 'micro'), recall_score(y_DiabMed_age_train, y_predict, average = 'micro')))"
   ]
  },
  {
   "cell_type": "code",
   "execution_count": 31,
   "metadata": {},
   "outputs": [
    {
     "data": {
      "text/plain": [
       "0.25773464969522025"
      ]
     },
     "execution_count": 31,
     "metadata": {},
     "output_type": "execute_result"
    }
   ],
   "source": [
    "# F1 precision_score(y_change1_train, y_predict), recall_score(y_change1_train, y_predict)\n",
    "\n",
    "# recall (y_true)\n",
    "recall = y_DiabMed_age_train\n",
    "\n",
    "# predict (y_pred)\n",
    "predict = y_predict\n",
    "\n",
    "# calculate F1 score\n",
    "f1_score(recall, predict, average = 'micro')"
   ]
  },
  {
   "cell_type": "code",
   "execution_count": 32,
   "metadata": {},
   "outputs": [
    {
     "data": {
      "text/plain": [
       "0.051930341562030545"
      ]
     },
     "execution_count": 32,
     "metadata": {},
     "output_type": "execute_result"
    }
   ],
   "source": [
    "f1_score(recall, predict, average = 'macro')"
   ]
  },
  {
   "cell_type": "code",
   "execution_count": 33,
   "metadata": {},
   "outputs": [
    {
     "data": {
      "text/plain": [
       "0.12848275291530342"
      ]
     },
     "execution_count": 33,
     "metadata": {},
     "output_type": "execute_result"
    }
   ],
   "source": [
    "f1_score(recall, predict, average = 'weighted')"
   ]
  },
  {
   "cell_type": "code",
   "execution_count": 34,
   "metadata": {},
   "outputs": [
    {
     "data": {
      "text/plain": [
       "array([0.        , 0.        , 0.        , 0.        , 0.        ,\n",
       "       0.        , 0.11750141, 0.40180201, 0.        , 0.        ])"
      ]
     },
     "execution_count": 34,
     "metadata": {},
     "output_type": "execute_result"
    }
   ],
   "source": [
    "f1_score(recall, predict, average = None)"
   ]
  },
  {
   "cell_type": "code",
   "execution_count": 35,
   "metadata": {},
   "outputs": [
    {
     "name": "stderr",
     "output_type": "stream",
     "text": [
      "/var/folders/0b/2h06wtt932j8vbn2kb4_x_2w0000gn/T/ipykernel_3934/3136663871.py:4: DataConversionWarning: A column-vector y was passed when a 1d array was expected. Please change the shape of y to (n_samples,), for example using ravel().\n",
      "  RC.fit(X_DiabMed_age_train, y_DiabMed_age_train)\n"
     ]
    },
    {
     "name": "stdout",
     "output_type": "stream",
     "text": [
      "Accuracy: 0.25951573031982683\n"
     ]
    }
   ],
   "source": [
    "# Random Forest for num_medications and change X_DiabMed_age_train, y_DiabMed_age_train\n",
    "from sklearn.ensemble import RandomForestClassifier\n",
    "RC = RandomForestClassifier(n_estimators = 100)\n",
    "RC.fit(X_DiabMed_age_train, y_DiabMed_age_train)\n",
    "y_RC_TRAIN_predict = RC.predict(X_DiabMed_age_train)\n",
    "\n",
    "print(\"Accuracy:\",metrics.accuracy_score(y_DiabMed_age_train, y_RC_TRAIN_predict))"
   ]
  },
  {
   "cell_type": "markdown",
   "metadata": {},
   "source": [
    "# Age (Test)"
   ]
  },
  {
   "cell_type": "code",
   "execution_count": 36,
   "metadata": {},
   "outputs": [
    {
     "name": "stderr",
     "output_type": "stream",
     "text": [
      "/Users/edk/anaconda3/envs/metis/lib/python3.8/site-packages/sklearn/utils/validation.py:63: DataConversionWarning: A column-vector y was passed when a 1d array was expected. Please change the shape of y to (n_samples, ), for example using ravel().\n",
      "  return f(*args, **kwargs)\n",
      "/Users/edk/anaconda3/envs/metis/lib/python3.8/site-packages/sklearn/linear_model/_logistic.py:763: ConvergenceWarning: lbfgs failed to converge (status=1):\n",
      "STOP: TOTAL NO. of ITERATIONS REACHED LIMIT.\n",
      "\n",
      "Increase the number of iterations (max_iter) or scale the data as shown in:\n",
      "    https://scikit-learn.org/stable/modules/preprocessing.html\n",
      "Please also refer to the documentation for alternative solver options:\n",
      "    https://scikit-learn.org/stable/modules/linear_model.html#logistic-regression\n",
      "  n_iter_i = _check_optimize_result(\n"
     ]
    },
    {
     "data": {
      "text/plain": [
       "LogisticRegression(C=1000)"
      ]
     },
     "execution_count": 36,
     "metadata": {},
     "output_type": "execute_result"
    }
   ],
   "source": [
    "# Logistic Regression for 'age' # X_Diab_Med_age_test, y_Diab_Med_age_test\n",
    "logr = LogisticRegression(C=1000)\n",
    "logr.fit(X_Diab_Med_age_test, y_Diab_Med_age_test)"
   ]
  },
  {
   "cell_type": "code",
   "execution_count": 37,
   "metadata": {},
   "outputs": [
    {
     "data": {
      "text/plain": [
       "0.2566080377321411"
      ]
     },
     "execution_count": 37,
     "metadata": {},
     "output_type": "execute_result"
    }
   ],
   "source": [
    "logr.score(X_Diab_Med_age_test, y_Diab_Med_age_test)"
   ]
  },
  {
   "cell_type": "code",
   "execution_count": 38,
   "metadata": {},
   "outputs": [
    {
     "data": {
      "text/plain": [
       "(array([[-0.33359874],\n",
       "        [-0.1557661 ],\n",
       "        [-0.02313986],\n",
       "        [ 0.0523579 ],\n",
       "        [ 0.0767466 ],\n",
       "        [ 0.08608273],\n",
       "        [ 0.09836324],\n",
       "        [ 0.08684171],\n",
       "        [ 0.07202474],\n",
       "        [ 0.04008779]]),\n",
       " array([-0.10642159, -0.05168506, -0.47224556, -0.679956  , -0.09434433,\n",
       "         0.3953519 ,  0.43728697,  0.76120106,  0.59735053, -0.78653793]))"
      ]
     },
     "execution_count": 38,
     "metadata": {},
     "output_type": "execute_result"
    }
   ],
   "source": [
    "logr.coef_, logr.intercept_"
   ]
  },
  {
   "cell_type": "code",
   "execution_count": 41,
   "metadata": {},
   "outputs": [
    {
     "name": "stdout",
     "output_type": "stream",
     "text": [
      "Precision: 0.2566, Recall: 0.2566\n"
     ]
    }
   ],
   "source": [
    "# precision_score and recall_score X_Diab_Med_age_test, y_Diab_Med_age_test\n",
    "y_predict = logr.predict(X_Diab_Med_age_test)\n",
    "print (\"Precision: {:6.4f}, Recall: {:6.4f}\".format(precision_score(y_Diab_Med_age_test, y_predict, average = 'micro'), recall_score(y_Diab_Med_age_test, y_predict, average = 'micro')))"
   ]
  },
  {
   "cell_type": "code",
   "execution_count": 42,
   "metadata": {},
   "outputs": [
    {
     "data": {
      "text/plain": [
       "0.2566080377321411"
      ]
     },
     "execution_count": 42,
     "metadata": {},
     "output_type": "execute_result"
    }
   ],
   "source": [
    "# F1 precision_score(y_change1_train, y_predict), recall_score(y_change1_train, y_predict)\n",
    "\n",
    "# recall (y_true)\n",
    "recall = y_Diab_Med_age_test\n",
    "\n",
    "# predict (y_pred)\n",
    "predict = y_predict\n",
    "\n",
    "# calculate F1 score\n",
    "f1_score(recall, predict, average = 'micro')"
   ]
  },
  {
   "cell_type": "code",
   "execution_count": 43,
   "metadata": {},
   "outputs": [
    {
     "name": "stderr",
     "output_type": "stream",
     "text": [
      "/var/folders/0b/2h06wtt932j8vbn2kb4_x_2w0000gn/T/ipykernel_3934/2108502202.py:4: DataConversionWarning: A column-vector y was passed when a 1d array was expected. Please change the shape of y to (n_samples,), for example using ravel().\n",
      "  RC.fit(X_Diab_Med_age_test, y_Diab_Med_age_test)\n"
     ]
    },
    {
     "name": "stdout",
     "output_type": "stream",
     "text": [
      "Accuracy: 0.2614228161540729\n"
     ]
    }
   ],
   "source": [
    "# Random Forest for  X_Diab_Med_age_test, y_Diab_Med_age_test\n",
    "from sklearn.ensemble import RandomForestClassifier\n",
    "RC = RandomForestClassifier(n_estimators = 100)\n",
    "RC.fit(X_Diab_Med_age_test, y_Diab_Med_age_test)\n",
    "y_RC_predict = RC.predict(X_Diab_Med_age_test)\n",
    "\n",
    "print(\"Accuracy:\",metrics.accuracy_score(y_Diab_Med_age_test, y_RC_predict))"
   ]
  },
  {
   "cell_type": "markdown",
   "metadata": {},
   "source": [
    "# Gender (Train)"
   ]
  },
  {
   "cell_type": "code",
   "execution_count": 44,
   "metadata": {},
   "outputs": [],
   "source": [
    "X_Diab_Med_gender = diabetes_updated_df[['num_medications']]\n",
    "y_Diab_Med_gender = diabetes_updated_df[['gender']]"
   ]
  },
  {
   "cell_type": "code",
   "execution_count": 45,
   "metadata": {},
   "outputs": [],
   "source": [
    "# train_test_split (X = num_medications and number_diagnoses) and (y = gender)\n",
    "X_Diab_Med_gender_train, X_Diab_Med_gender_test, y_Diab_Med_gender_train, y_Diab_Med_gender_test = train_test_split(X_Diab_Med_gender,y_Diab_Med_gender,test_size=0.2, random_state=42)\n",
    "\n",
    "X_DiabMed_gender_train, X_DiabMed_gender_val, y_DiabMed_gender_train, y_DiabMed_gender_val = train_test_split(X_Diab_Med_gender_train, y_Diab_Med_gender_train, test_size=0.2, random_state=1)"
   ]
  },
  {
   "cell_type": "code",
   "execution_count": 46,
   "metadata": {},
   "outputs": [
    {
     "data": {
      "text/html": [
       "<div>\n",
       "<style scoped>\n",
       "    .dataframe tbody tr th:only-of-type {\n",
       "        vertical-align: middle;\n",
       "    }\n",
       "\n",
       "    .dataframe tbody tr th {\n",
       "        vertical-align: top;\n",
       "    }\n",
       "\n",
       "    .dataframe thead th {\n",
       "        text-align: right;\n",
       "    }\n",
       "</style>\n",
       "<table border=\"1\" class=\"dataframe\">\n",
       "  <thead>\n",
       "    <tr style=\"text-align: right;\">\n",
       "      <th></th>\n",
       "      <th>num_medications</th>\n",
       "    </tr>\n",
       "  </thead>\n",
       "  <tbody>\n",
       "    <tr>\n",
       "      <th>40985</th>\n",
       "      <td>22</td>\n",
       "    </tr>\n",
       "    <tr>\n",
       "      <th>38441</th>\n",
       "      <td>14</td>\n",
       "    </tr>\n",
       "    <tr>\n",
       "      <th>42042</th>\n",
       "      <td>18</td>\n",
       "    </tr>\n",
       "    <tr>\n",
       "      <th>69887</th>\n",
       "      <td>14</td>\n",
       "    </tr>\n",
       "    <tr>\n",
       "      <th>73154</th>\n",
       "      <td>15</td>\n",
       "    </tr>\n",
       "  </tbody>\n",
       "</table>\n",
       "</div>"
      ],
      "text/plain": [
       "       num_medications\n",
       "40985               22\n",
       "38441               14\n",
       "42042               18\n",
       "69887               14\n",
       "73154               15"
      ]
     },
     "execution_count": 46,
     "metadata": {},
     "output_type": "execute_result"
    }
   ],
   "source": [
    "X_DiabMed_gender_train.head()"
   ]
  },
  {
   "cell_type": "code",
   "execution_count": 47,
   "metadata": {},
   "outputs": [
    {
     "data": {
      "text/html": [
       "<div>\n",
       "<style scoped>\n",
       "    .dataframe tbody tr th:only-of-type {\n",
       "        vertical-align: middle;\n",
       "    }\n",
       "\n",
       "    .dataframe tbody tr th {\n",
       "        vertical-align: top;\n",
       "    }\n",
       "\n",
       "    .dataframe thead th {\n",
       "        text-align: right;\n",
       "    }\n",
       "</style>\n",
       "<table border=\"1\" class=\"dataframe\">\n",
       "  <thead>\n",
       "    <tr style=\"text-align: right;\">\n",
       "      <th></th>\n",
       "      <th>gender</th>\n",
       "    </tr>\n",
       "  </thead>\n",
       "  <tbody>\n",
       "    <tr>\n",
       "      <th>40985</th>\n",
       "      <td>0.0</td>\n",
       "    </tr>\n",
       "    <tr>\n",
       "      <th>38441</th>\n",
       "      <td>1.0</td>\n",
       "    </tr>\n",
       "    <tr>\n",
       "      <th>42042</th>\n",
       "      <td>1.0</td>\n",
       "    </tr>\n",
       "    <tr>\n",
       "      <th>69887</th>\n",
       "      <td>1.0</td>\n",
       "    </tr>\n",
       "    <tr>\n",
       "      <th>73154</th>\n",
       "      <td>1.0</td>\n",
       "    </tr>\n",
       "  </tbody>\n",
       "</table>\n",
       "</div>"
      ],
      "text/plain": [
       "       gender\n",
       "40985     0.0\n",
       "38441     1.0\n",
       "42042     1.0\n",
       "69887     1.0\n",
       "73154     1.0"
      ]
     },
     "execution_count": 47,
     "metadata": {},
     "output_type": "execute_result"
    }
   ],
   "source": [
    "y_DiabMed_gender_train.head()\n"
   ]
  },
  {
   "cell_type": "code",
   "execution_count": 48,
   "metadata": {},
   "outputs": [
    {
     "data": {
      "text/plain": [
       "gender    0.464294\n",
       "dtype: float64"
      ]
     },
     "execution_count": 48,
     "metadata": {},
     "output_type": "execute_result"
    }
   ],
   "source": [
    "np.mean(y_DiabMed_gender_train)"
   ]
  },
  {
   "cell_type": "code",
   "execution_count": 49,
   "metadata": {},
   "outputs": [
    {
     "data": {
      "text/plain": [
       "num_medications    16.010594\n",
       "dtype: float64"
      ]
     },
     "execution_count": 49,
     "metadata": {},
     "output_type": "execute_result"
    }
   ],
   "source": [
    "np.mean(X_DiabMed_gender_train)"
   ]
  },
  {
   "cell_type": "code",
   "execution_count": 50,
   "metadata": {},
   "outputs": [
    {
     "name": "stderr",
     "output_type": "stream",
     "text": [
      "/Users/edk/anaconda3/envs/metis/lib/python3.8/site-packages/sklearn/utils/validation.py:63: DataConversionWarning: A column-vector y was passed when a 1d array was expected. Please change the shape of y to (n_samples, ), for example using ravel().\n",
      "  return f(*args, **kwargs)\n"
     ]
    },
    {
     "data": {
      "text/plain": [
       "LogisticRegression(C=1000)"
      ]
     },
     "execution_count": 50,
     "metadata": {},
     "output_type": "execute_result"
    }
   ],
   "source": [
    "# Logistic Regression for 'gender' X_DiabMed_gender_train, y_DiabMed_gender_train\n",
    "logr = LogisticRegression(C=1000)\n",
    "logr.fit(X_DiabMed_gender_train, y_DiabMed_gender_train)"
   ]
  },
  {
   "cell_type": "code",
   "execution_count": 51,
   "metadata": {},
   "outputs": [
    {
     "data": {
      "text/plain": [
       "0.5357060602803666"
      ]
     },
     "execution_count": 51,
     "metadata": {},
     "output_type": "execute_result"
    }
   ],
   "source": [
    "logr.score(X_DiabMed_gender_train, y_DiabMed_gender_train)"
   ]
  },
  {
   "cell_type": "code",
   "execution_count": 52,
   "metadata": {},
   "outputs": [
    {
     "data": {
      "text/plain": [
       "(array([[-0.00565664]]), array([-0.05258559]))"
      ]
     },
     "execution_count": 52,
     "metadata": {},
     "output_type": "execute_result"
    }
   ],
   "source": [
    "logr.coef_, logr.intercept_"
   ]
  },
  {
   "cell_type": "code",
   "execution_count": 56,
   "metadata": {},
   "outputs": [
    {
     "name": "stdout",
     "output_type": "stream",
     "text": [
      "Precision: 0.0000, Recall: 0.0000\n"
     ]
    },
    {
     "name": "stderr",
     "output_type": "stream",
     "text": [
      "/Users/edk/anaconda3/envs/metis/lib/python3.8/site-packages/sklearn/metrics/_classification.py:1248: UndefinedMetricWarning: Precision is ill-defined and being set to 0.0 due to no predicted samples. Use `zero_division` parameter to control this behavior.\n",
      "  _warn_prf(average, modifier, msg_start, len(result))\n"
     ]
    }
   ],
   "source": [
    "# precision_score and recall_score X_DiabMed_gender_train, y_DiabMed_gender_train\n",
    "y_predict = logr.predict(X_DiabMed_gender_train)\n",
    "print (\"Precision: {:6.4f}, Recall: {:6.4f}\".format(precision_score(y_DiabMed_gender_train, y_predict), recall_score(y_DiabMed_gender_train, y_predict)))"
   ]
  },
  {
   "cell_type": "code",
   "execution_count": 54,
   "metadata": {},
   "outputs": [
    {
     "data": {
      "text/plain": [
       "0.0"
      ]
     },
     "execution_count": 54,
     "metadata": {},
     "output_type": "execute_result"
    }
   ],
   "source": [
    "# F1 precision_score(y_change1_train, y_predict), recall_score(y_change1_train, y_predict)\n",
    "\n",
    "# recall (y_true)\n",
    "recall = y_DiabMed_gender_train\n",
    "\n",
    "# predict (y_pred)\n",
    "predict = y_predict\n",
    "\n",
    "# calculate F1 score\n",
    "f1_score(recall, predict)"
   ]
  },
  {
   "cell_type": "code",
   "execution_count": 57,
   "metadata": {},
   "outputs": [
    {
     "name": "stderr",
     "output_type": "stream",
     "text": [
      "/var/folders/0b/2h06wtt932j8vbn2kb4_x_2w0000gn/T/ipykernel_3934/2595381653.py:4: DataConversionWarning: A column-vector y was passed when a 1d array was expected. Please change the shape of y to (n_samples,), for example using ravel().\n",
      "  RC.fit(X_DiabMed_gender_train, y_DiabMed_gender_train)\n"
     ]
    },
    {
     "name": "stdout",
     "output_type": "stream",
     "text": [
      "Accuracy: 0.5402969491317232\n"
     ]
    }
   ],
   "source": [
    "# Random Forest for gender X_DiabMed_gender_train, y_DiabMed_gender_train\n",
    "from sklearn.ensemble import RandomForestClassifier\n",
    "RC = RandomForestClassifier(n_estimators = 100)\n",
    "RC.fit(X_DiabMed_gender_train, y_DiabMed_gender_train)\n",
    "y_RC_TRAIN_predict = RC.predict(X_DiabMed_gender_train)\n",
    "\n",
    "print(\"Accuracy:\",metrics.accuracy_score(y_DiabMed_gender_train, y_RC_TRAIN_predict))"
   ]
  },
  {
   "cell_type": "markdown",
   "metadata": {},
   "source": [
    "# Gender (Test)"
   ]
  },
  {
   "cell_type": "code",
   "execution_count": 58,
   "metadata": {},
   "outputs": [
    {
     "name": "stderr",
     "output_type": "stream",
     "text": [
      "/Users/edk/anaconda3/envs/metis/lib/python3.8/site-packages/sklearn/utils/validation.py:63: DataConversionWarning: A column-vector y was passed when a 1d array was expected. Please change the shape of y to (n_samples, ), for example using ravel().\n",
      "  return f(*args, **kwargs)\n"
     ]
    },
    {
     "data": {
      "text/plain": [
       "LogisticRegression(C=1000)"
      ]
     },
     "execution_count": 58,
     "metadata": {},
     "output_type": "execute_result"
    }
   ],
   "source": [
    "# Logistic Regression for 'gender' # X_Diab_Med_gender_test, y_Diab_Med_gender_test\n",
    "logr = LogisticRegression(C=1000)\n",
    "logr.fit(X_Diab_Med_gender_test, y_Diab_Med_gender_test)"
   ]
  },
  {
   "cell_type": "code",
   "execution_count": 59,
   "metadata": {},
   "outputs": [
    {
     "data": {
      "text/plain": [
       "0.5389112705119387"
      ]
     },
     "execution_count": 59,
     "metadata": {},
     "output_type": "execute_result"
    }
   ],
   "source": [
    "logr.score(X_Diab_Med_gender_test, y_Diab_Med_gender_test)"
   ]
  },
  {
   "cell_type": "code",
   "execution_count": 60,
   "metadata": {},
   "outputs": [
    {
     "data": {
      "text/plain": [
       "(array([[-0.00558275]]), array([-0.06630128]))"
      ]
     },
     "execution_count": 60,
     "metadata": {},
     "output_type": "execute_result"
    }
   ],
   "source": [
    "logr.coef_, logr.intercept_"
   ]
  },
  {
   "cell_type": "code",
   "execution_count": 61,
   "metadata": {},
   "outputs": [
    {
     "name": "stdout",
     "output_type": "stream",
     "text": [
      "Precision: 0.0000, Recall: 0.0000\n"
     ]
    },
    {
     "name": "stderr",
     "output_type": "stream",
     "text": [
      "/Users/edk/anaconda3/envs/metis/lib/python3.8/site-packages/sklearn/metrics/_classification.py:1248: UndefinedMetricWarning: Precision is ill-defined and being set to 0.0 due to no predicted samples. Use `zero_division` parameter to control this behavior.\n",
      "  _warn_prf(average, modifier, msg_start, len(result))\n"
     ]
    }
   ],
   "source": [
    "# precision_score and recall_score # X_Diab_Med_gender_test, y_Diab_Med_gender_test\n",
    "y_predict = logr.predict(X_Diab_Med_gender_test)\n",
    "print (\"Precision: {:6.4f}, Recall: {:6.4f}\".format(precision_score(y_Diab_Med_gender_test, y_predict), recall_score(y_Diab_Med_gender_test, y_predict)))"
   ]
  },
  {
   "cell_type": "code",
   "execution_count": 62,
   "metadata": {},
   "outputs": [
    {
     "data": {
      "text/plain": [
       "0.0"
      ]
     },
     "execution_count": 62,
     "metadata": {},
     "output_type": "execute_result"
    }
   ],
   "source": [
    "# F1 precision_score(y_change1_train, y_predict), recall_score(y_change1_train, y_predict)\n",
    "\n",
    "# recall (y_true)\n",
    "recall = y_Diab_Med_gender_test\n",
    "\n",
    "# predict (y_pred)\n",
    "predict = y_predict\n",
    "\n",
    "# calculate F1 score\n",
    "f1_score(recall, predict)"
   ]
  },
  {
   "cell_type": "code",
   "execution_count": 63,
   "metadata": {},
   "outputs": [
    {
     "name": "stderr",
     "output_type": "stream",
     "text": [
      "/var/folders/0b/2h06wtt932j8vbn2kb4_x_2w0000gn/T/ipykernel_3934/96092769.py:4: DataConversionWarning: A column-vector y was passed when a 1d array was expected. Please change the shape of y to (n_samples,), for example using ravel().\n",
      "  RC.fit(X_Diab_Med_gender_test, y_Diab_Med_gender_test)\n"
     ]
    },
    {
     "name": "stdout",
     "output_type": "stream",
     "text": [
      "Accuracy: 0.5473616979463496\n"
     ]
    }
   ],
   "source": [
    "# Random Forest for  # X_Diab_Med_gender_test, y_Diab_Med_gender_test\n",
    "from sklearn.ensemble import RandomForestClassifier\n",
    "RC = RandomForestClassifier(n_estimators = 100)\n",
    "RC.fit(X_Diab_Med_gender_test, y_Diab_Med_gender_test)\n",
    "y_RC_predict = RC.predict(X_Diab_Med_gender_test)\n",
    "\n",
    "print(\"Accuracy:\",metrics.accuracy_score(y_Diab_Med_gender_test, y_RC_predict))"
   ]
  },
  {
   "cell_type": "markdown",
   "metadata": {},
   "source": [
    "# Race (Train)"
   ]
  },
  {
   "cell_type": "code",
   "execution_count": 65,
   "metadata": {},
   "outputs": [],
   "source": [
    "X_Diab_Med_race = diabetes_updated_df[['race']]\n",
    "\n",
    "y_Diab_Med_race  = diabetes_updated_df[['num_medications']]"
   ]
  },
  {
   "cell_type": "code",
   "execution_count": 66,
   "metadata": {},
   "outputs": [],
   "source": [
    "# train_test_split (X = num_medications and number_diagnoses) and (y = race)\n",
    "X_Diab_Med_race_train, X_Diab_Med_race_test, y_Diab_Med_race_train, y_Diab_Med_race_test = train_test_split(X_Diab_Med_race,y_Diab_Med_race,test_size=0.2, random_state=42)\n",
    "\n",
    "X_DiabMed_race_train, X_DiabMed_race_val, y_DiabMed_race_train, y_DiabMed_race_val = train_test_split(X_Diab_Med_race_train, y_Diab_Med_race_train, test_size=0.2, random_state=1)"
   ]
  },
  {
   "cell_type": "code",
   "execution_count": 67,
   "metadata": {},
   "outputs": [
    {
     "data": {
      "text/html": [
       "<div>\n",
       "<style scoped>\n",
       "    .dataframe tbody tr th:only-of-type {\n",
       "        vertical-align: middle;\n",
       "    }\n",
       "\n",
       "    .dataframe tbody tr th {\n",
       "        vertical-align: top;\n",
       "    }\n",
       "\n",
       "    .dataframe thead th {\n",
       "        text-align: right;\n",
       "    }\n",
       "</style>\n",
       "<table border=\"1\" class=\"dataframe\">\n",
       "  <thead>\n",
       "    <tr style=\"text-align: right;\">\n",
       "      <th></th>\n",
       "      <th>race</th>\n",
       "    </tr>\n",
       "  </thead>\n",
       "  <tbody>\n",
       "    <tr>\n",
       "      <th>40985</th>\n",
       "      <td>2.0</td>\n",
       "    </tr>\n",
       "    <tr>\n",
       "      <th>38441</th>\n",
       "      <td>2.0</td>\n",
       "    </tr>\n",
       "    <tr>\n",
       "      <th>42042</th>\n",
       "      <td>2.0</td>\n",
       "    </tr>\n",
       "    <tr>\n",
       "      <th>69887</th>\n",
       "      <td>2.0</td>\n",
       "    </tr>\n",
       "    <tr>\n",
       "      <th>73154</th>\n",
       "      <td>2.0</td>\n",
       "    </tr>\n",
       "  </tbody>\n",
       "</table>\n",
       "</div>"
      ],
      "text/plain": [
       "       race\n",
       "40985   2.0\n",
       "38441   2.0\n",
       "42042   2.0\n",
       "69887   2.0\n",
       "73154   2.0"
      ]
     },
     "execution_count": 67,
     "metadata": {},
     "output_type": "execute_result"
    }
   ],
   "source": [
    "X_DiabMed_race_train.head()"
   ]
  },
  {
   "cell_type": "code",
   "execution_count": 68,
   "metadata": {},
   "outputs": [
    {
     "data": {
      "text/html": [
       "<div>\n",
       "<style scoped>\n",
       "    .dataframe tbody tr th:only-of-type {\n",
       "        vertical-align: middle;\n",
       "    }\n",
       "\n",
       "    .dataframe tbody tr th {\n",
       "        vertical-align: top;\n",
       "    }\n",
       "\n",
       "    .dataframe thead th {\n",
       "        text-align: right;\n",
       "    }\n",
       "</style>\n",
       "<table border=\"1\" class=\"dataframe\">\n",
       "  <thead>\n",
       "    <tr style=\"text-align: right;\">\n",
       "      <th></th>\n",
       "      <th>num_medications</th>\n",
       "    </tr>\n",
       "  </thead>\n",
       "  <tbody>\n",
       "    <tr>\n",
       "      <th>40985</th>\n",
       "      <td>22</td>\n",
       "    </tr>\n",
       "    <tr>\n",
       "      <th>38441</th>\n",
       "      <td>14</td>\n",
       "    </tr>\n",
       "    <tr>\n",
       "      <th>42042</th>\n",
       "      <td>18</td>\n",
       "    </tr>\n",
       "    <tr>\n",
       "      <th>69887</th>\n",
       "      <td>14</td>\n",
       "    </tr>\n",
       "    <tr>\n",
       "      <th>73154</th>\n",
       "      <td>15</td>\n",
       "    </tr>\n",
       "  </tbody>\n",
       "</table>\n",
       "</div>"
      ],
      "text/plain": [
       "       num_medications\n",
       "40985               22\n",
       "38441               14\n",
       "42042               18\n",
       "69887               14\n",
       "73154               15"
      ]
     },
     "execution_count": 68,
     "metadata": {},
     "output_type": "execute_result"
    }
   ],
   "source": [
    "y_DiabMed_race_train.head()"
   ]
  },
  {
   "cell_type": "code",
   "execution_count": 69,
   "metadata": {},
   "outputs": [
    {
     "data": {
      "text/plain": [
       "race    2.126288\n",
       "dtype: float64"
      ]
     },
     "execution_count": 69,
     "metadata": {},
     "output_type": "execute_result"
    }
   ],
   "source": [
    "np.mean(X_DiabMed_race_train)"
   ]
  },
  {
   "cell_type": "code",
   "execution_count": 70,
   "metadata": {},
   "outputs": [
    {
     "data": {
      "text/plain": [
       "num_medications    16.010594\n",
       "dtype: float64"
      ]
     },
     "execution_count": 70,
     "metadata": {},
     "output_type": "execute_result"
    }
   ],
   "source": [
    "np.mean(y_DiabMed_race_train)"
   ]
  },
  {
   "cell_type": "code",
   "execution_count": 72,
   "metadata": {},
   "outputs": [
    {
     "name": "stderr",
     "output_type": "stream",
     "text": [
      "/Users/edk/anaconda3/envs/metis/lib/python3.8/site-packages/sklearn/utils/validation.py:63: DataConversionWarning: A column-vector y was passed when a 1d array was expected. Please change the shape of y to (n_samples, ), for example using ravel().\n",
      "  return f(*args, **kwargs)\n",
      "/Users/edk/anaconda3/envs/metis/lib/python3.8/site-packages/sklearn/linear_model/_logistic.py:763: ConvergenceWarning: lbfgs failed to converge (status=1):\n",
      "STOP: TOTAL NO. of ITERATIONS REACHED LIMIT.\n",
      "\n",
      "Increase the number of iterations (max_iter) or scale the data as shown in:\n",
      "    https://scikit-learn.org/stable/modules/preprocessing.html\n",
      "Please also refer to the documentation for alternative solver options:\n",
      "    https://scikit-learn.org/stable/modules/linear_model.html#logistic-regression\n",
      "  n_iter_i = _check_optimize_result(\n"
     ]
    },
    {
     "data": {
      "text/plain": [
       "LogisticRegression(C=1000)"
      ]
     },
     "execution_count": 72,
     "metadata": {},
     "output_type": "execute_result"
    }
   ],
   "source": [
    "# Logistic Regression for 'race' X_DiabMed_race_train, y_DiabMed_race_train\n",
    "logr = LogisticRegression(C=1000, max_iter = 100)\n",
    "logr.fit(X_DiabMed_race_train, y_DiabMed_race_train)"
   ]
  },
  {
   "cell_type": "code",
   "execution_count": 76,
   "metadata": {},
   "outputs": [],
   "source": [
    "# # F1 precision_score(y_change1_train, y_predict), recall_score(y_change1_train, y_predict)\n",
    "\n",
    "# # recall (y_true)\n",
    "# recall = y_DiabMed_race_train\n",
    "\n",
    "# # predict (y_pred)\n",
    "# predict = y_predict\n",
    "\n",
    "# # calculate F1 score\n",
    "# f1_score(recall, predict)"
   ]
  },
  {
   "cell_type": "code",
   "execution_count": 74,
   "metadata": {},
   "outputs": [
    {
     "name": "stderr",
     "output_type": "stream",
     "text": [
      "/var/folders/0b/2h06wtt932j8vbn2kb4_x_2w0000gn/T/ipykernel_3934/3381765837.py:4: DataConversionWarning: A column-vector y was passed when a 1d array was expected. Please change the shape of y to (n_samples,), for example using ravel().\n",
      "  RC.fit(X_DiabMed_race_train, y_DiabMed_race_train)\n"
     ]
    },
    {
     "name": "stdout",
     "output_type": "stream",
     "text": [
      "Accuracy: 0.060157533510417784\n"
     ]
    }
   ],
   "source": [
    "# Random Forest for race X_DiabMed_race_train, y_DiabMed_race_train\n",
    "from sklearn.ensemble import RandomForestClassifier\n",
    "RC = RandomForestClassifier(n_estimators = 100)\n",
    "RC.fit(X_DiabMed_race_train, y_DiabMed_race_train)\n",
    "y_RC_TRAIN_predict = RC.predict(X_DiabMed_race_train)\n",
    "\n",
    "print(\"Accuracy:\",metrics.accuracy_score(y_DiabMed_race_train, y_RC_TRAIN_predict))"
   ]
  },
  {
   "cell_type": "markdown",
   "metadata": {},
   "source": [
    "# Race (Test)"
   ]
  },
  {
   "cell_type": "code",
   "execution_count": 75,
   "metadata": {},
   "outputs": [
    {
     "name": "stderr",
     "output_type": "stream",
     "text": [
      "/Users/edk/anaconda3/envs/metis/lib/python3.8/site-packages/sklearn/utils/validation.py:63: DataConversionWarning: A column-vector y was passed when a 1d array was expected. Please change the shape of y to (n_samples, ), for example using ravel().\n",
      "  return f(*args, **kwargs)\n",
      "/Users/edk/anaconda3/envs/metis/lib/python3.8/site-packages/sklearn/linear_model/_logistic.py:763: ConvergenceWarning: lbfgs failed to converge (status=1):\n",
      "STOP: TOTAL NO. of ITERATIONS REACHED LIMIT.\n",
      "\n",
      "Increase the number of iterations (max_iter) or scale the data as shown in:\n",
      "    https://scikit-learn.org/stable/modules/preprocessing.html\n",
      "Please also refer to the documentation for alternative solver options:\n",
      "    https://scikit-learn.org/stable/modules/linear_model.html#logistic-regression\n",
      "  n_iter_i = _check_optimize_result(\n"
     ]
    },
    {
     "data": {
      "text/plain": [
       "LogisticRegression(C=1000)"
      ]
     },
     "execution_count": 75,
     "metadata": {},
     "output_type": "execute_result"
    }
   ],
   "source": [
    "# Logistic Regression for 'race' # X_Diab_Med_race_test, y_Diab_Med_race_test\n",
    "logr = LogisticRegression(C=1000)\n",
    "logr.fit(X_Diab_Med_race_test, y_Diab_Med_race_test)"
   ]
  },
  {
   "cell_type": "code",
   "execution_count": 77,
   "metadata": {},
   "outputs": [
    {
     "data": {
      "text/plain": [
       "0.06116733811535816"
      ]
     },
     "execution_count": 77,
     "metadata": {},
     "output_type": "execute_result"
    }
   ],
   "source": [
    "logr.score(X_Diab_Med_race_test, y_Diab_Med_race_test)"
   ]
  },
  {
   "cell_type": "code",
   "execution_count": 78,
   "metadata": {},
   "outputs": [
    {
     "data": {
      "text/plain": [
       "(array([[-0.23955639],\n",
       "        [ 0.29399339],\n",
       "        [ 0.36130347],\n",
       "        [ 0.09782672],\n",
       "        [ 0.15771564],\n",
       "        [ 0.17624543],\n",
       "        [ 0.19832446],\n",
       "        [ 0.17084482],\n",
       "        [ 0.11949366],\n",
       "        [ 0.29290541],\n",
       "        [ 0.08640277],\n",
       "        [ 0.20312023],\n",
       "        [ 0.09577835],\n",
       "        [ 0.09390662],\n",
       "        [ 0.1164455 ],\n",
       "        [ 0.08929911],\n",
       "        [ 0.11689154],\n",
       "        [ 0.18051095],\n",
       "        [ 0.04200706],\n",
       "        [ 0.08171899],\n",
       "        [ 0.1797632 ],\n",
       "        [ 0.16289624],\n",
       "        [ 0.14835844],\n",
       "        [ 0.14327651],\n",
       "        [ 0.12617538],\n",
       "        [ 0.17765148],\n",
       "        [ 0.19932267],\n",
       "        [ 0.18958167],\n",
       "        [ 0.03509653],\n",
       "        [ 0.24780376],\n",
       "        [ 0.09901782],\n",
       "        [ 0.15049497],\n",
       "        [ 0.29429587],\n",
       "        [ 0.27722031],\n",
       "        [ 0.38942477],\n",
       "        [ 0.44828233],\n",
       "        [-0.00162189],\n",
       "        [-0.20689142],\n",
       "        [ 0.4758869 ],\n",
       "        [ 0.11677461],\n",
       "        [ 0.16375586],\n",
       "        [ 0.15197167],\n",
       "        [ 0.18628125],\n",
       "        [ 0.27916472],\n",
       "        [-0.21823773],\n",
       "        [ 0.1367867 ],\n",
       "        [ 0.16443924],\n",
       "        [-0.25875215],\n",
       "        [ 0.12574735],\n",
       "        [-0.14537854],\n",
       "        [-0.14537854],\n",
       "        [ 0.54167015],\n",
       "        [-0.33400462],\n",
       "        [-0.28585951],\n",
       "        [-0.11012983],\n",
       "        [-0.19918278],\n",
       "        [-0.46244091],\n",
       "        [-0.08557739],\n",
       "        [-0.70489151],\n",
       "        [-0.14537854],\n",
       "        [-0.80652532],\n",
       "        [-0.38716612],\n",
       "        [-0.74016556],\n",
       "        [-0.50905513],\n",
       "        [-0.30639248],\n",
       "        [-0.55868118],\n",
       "        [-1.17592576],\n",
       "        [-0.55868118]]),\n",
       " array([ 0.10518747, -0.12040838,  0.27952238,  1.2781626 ,  1.50323404,\n",
       "         1.69546084,  2.02043851,  2.21911124,  2.5108092 ,  2.21546423,\n",
       "         2.68661484,  2.49949792,  2.73757259,  2.66357326,  2.67080276,\n",
       "         2.64075214,  2.4825583 ,  2.26374108,  2.42978938,  2.24585587,\n",
       "         1.99112149,  1.87768288,  1.79029715,  1.56428732,  1.53204359,\n",
       "         1.23148842,  1.12718054,  1.0312181 ,  1.16921468,  0.4243218 ,\n",
       "         0.57979234,  0.31098341, -0.02250189, -0.1619538 , -0.74213008,\n",
       "        -1.21321272, -0.11001821, -0.34908375, -1.46375701, -1.05327272,\n",
       "        -0.88294999, -1.14806572, -1.64330701, -1.4273744 , -1.06196261,\n",
       "        -1.78483514, -1.88396189, -1.39852203, -1.96729652, -1.60157417,\n",
       "        -1.60157417, -2.86421704, -1.16957943, -1.70565285, -1.89678049,\n",
       "        -1.65670117, -2.03308542, -2.18018197, -1.32337616, -1.60157417,\n",
       "        -2.09801154, -1.74486465, -1.80354053, -1.78249275, -2.26565373,\n",
       "        -2.03901743, -1.93627139, -2.03901743]))"
      ]
     },
     "execution_count": 78,
     "metadata": {},
     "output_type": "execute_result"
    }
   ],
   "source": [
    "logr.coef_, logr.intercept_"
   ]
  },
  {
   "cell_type": "code",
   "execution_count": 81,
   "metadata": {},
   "outputs": [
    {
     "name": "stdout",
     "output_type": "stream",
     "text": [
      "Precision: 0.0612, Recall: 0.0612\n"
     ]
    }
   ],
   "source": [
    "# precision_score and recall_score # X_Diab_Med_race_test, y_Diab_Med_race_test\n",
    "y_predict = logr.predict(X_Diab_Med_race_test)\n",
    "print (\"Precision: {:6.4f}, Recall: {:6.4f}\".format(precision_score(y_Diab_Med_race_test, y_predict, average = 'micro'), recall_score(y_Diab_Med_race_test, y_predict, average = 'micro')))"
   ]
  },
  {
   "cell_type": "code",
   "execution_count": null,
   "metadata": {},
   "outputs": [],
   "source": [
    "# F1 precision_score(y_change1_train, y_predict), recall_score(y_change1_train, y_predict)\n",
    "\n",
    "# recall (y_true)\n",
    "recall = y_Diab_Med_race_test\n",
    "\n",
    "# predict (y_pred)\n",
    "predict = y_predict\n",
    "\n",
    "# calculate F1 score\n",
    "f1_score(recall, predict)"
   ]
  },
  {
   "cell_type": "code",
   "execution_count": 79,
   "metadata": {},
   "outputs": [
    {
     "name": "stderr",
     "output_type": "stream",
     "text": [
      "/var/folders/0b/2h06wtt932j8vbn2kb4_x_2w0000gn/T/ipykernel_3934/4038783451.py:4: DataConversionWarning: A column-vector y was passed when a 1d array was expected. Please change the shape of y to (n_samples,), for example using ravel().\n",
      "  RC.fit(X_Diab_Med_race_test, y_Diab_Med_race_test)\n"
     ]
    },
    {
     "name": "stdout",
     "output_type": "stream",
     "text": [
      "Accuracy: 0.06190429399626609\n"
     ]
    }
   ],
   "source": [
    "# Random Forest for  # X_Diab_Med_race_test, y_Diab_Med_race_test\n",
    "from sklearn.ensemble import RandomForestClassifier\n",
    "RC = RandomForestClassifier(n_estimators = 100)\n",
    "RC.fit(X_Diab_Med_race_test, y_Diab_Med_race_test)\n",
    "y_RC_predict = RC.predict(X_Diab_Med_race_test)\n",
    "\n",
    "print(\"Accuracy:\",metrics.accuracy_score(y_Diab_Med_race_test, y_RC_predict))"
   ]
  },
  {
   "cell_type": "code",
   "execution_count": null,
   "metadata": {},
   "outputs": [],
   "source": []
  }
 ],
 "metadata": {
  "kernelspec": {
   "display_name": "Python 3 (ipykernel)",
   "language": "python",
   "name": "python3"
  },
  "language_info": {
   "codemirror_mode": {
    "name": "ipython",
    "version": 3
   },
   "file_extension": ".py",
   "mimetype": "text/x-python",
   "name": "python",
   "nbconvert_exporter": "python",
   "pygments_lexer": "ipython3",
   "version": "3.8.10"
  }
 },
 "nbformat": 4,
 "nbformat_minor": 2
}
